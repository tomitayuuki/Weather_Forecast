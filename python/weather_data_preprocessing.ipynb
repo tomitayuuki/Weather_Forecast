{
 "cells": [
  {
   "cell_type": "code",
   "execution_count": 2,
   "id": "5faa82ed",
   "metadata": {},
   "outputs": [],
   "source": [
    "import pandas as pd"
   ]
  },
  {
   "cell_type": "markdown",
   "id": "a3ee140c",
   "metadata": {},
   "source": [
    "# データの加工整形"
   ]
  },
  {
   "cell_type": "code",
   "execution_count": 316,
   "id": "20a65e37",
   "metadata": {},
   "outputs": [],
   "source": [
    "# 降水量について\n",
    "# 基本小数値。0（整数）が存在するがこれは雨が降っていないパターン。0.0は若干降ってたっぽい\n",
    "\n",
    "# 日照時間について\n",
    "# 基本0~1の小数。0（整数）はそもそも日が出てない。\n",
    "\n",
    "# 風速・風向について\n",
    "# 風向は16方向で表記\n",
    "\n",
    "# 全天日射量はエンコード不明。ファイルが開けない\n",
    "\n",
    "# 天気について\n",
    "# 1.値は記号に対応した数字を割り振られている。\n",
    "# 2.観測は3時間ごとのみ。また深夜0時には観測されない。\n",
    "\n",
    "# 雲量について\n",
    "# 基本0~10の整数。0+と10-が存在する。\n",
    "\n",
    "status = {\n",
    "    \"temperature\":{\"before_colname\": \"気温(℃)\", \"after_colname\": \"temperature\", \"dtype\": \"float\",},\n",
    "    \"precipitation\":{\"before_colname\": \"降水量(mm)\", \"after_colname\": \"precipitation\", \"dtype\": \"float\",},\n",
    "    \"sunshine\":{\"before_colname\": \"日照時間(時間)\", \"after_colname\": \"sunshine\", \"dtype\": \"float\",},\n",
    "    \"wind\":{\"before_colname\": {1: \"風速(m/s)\", 3: \"風向\",}, \"after_colname\": {1: \"wind_speed\", 3: \"wind_direction\",}, \"dtype\": {1: float, 3: object,},},  # 例外処理しようね\n",
    "#    \"solar\":{\"before_colname\": \"\", \"after_colname\": \"solar\", \"dtype\": \"float\",}, # ?\n",
    "    \"pressure\":{\"before_colname\": \"現地気圧(hPa)\", \"after_colname\": \"pressure\", \"dtype\": \"float\",},\n",
    "    \"humidity\":{\"before_colname\": \"相対湿度(％)\", \"after_colname\": \"humidity\", \"dtype\": \"float\",},\n",
    "    \"weather\":{\"before_colname\": \"天気\", \"after_colname\": \"weather\", \"dtype\": \"int\",},\n",
    "    \"cloud\":{\"before_colname\": \"雲量(10分比)\", \"after_colname\": \"cloud\", \"dtype\": \"int\",}, # 型変換の前に+と-を処理しようね\n",
    "}"
   ]
  },
  {
   "cell_type": "code",
   "execution_count": 333,
   "id": "8ca11b21",
   "metadata": {},
   "outputs": [],
   "source": [
    "def lead_and_preprocess_data(year, element, status):\n",
    "\n",
    "    '''データを読み込んで整形するゾ'''\n",
    "    \n",
    "    # 読み込みと整形\n",
    "    data = pd.read_csv(f\"./../data/data_{element}_{year}.csv\", encoding=\"shift-jis\")\n",
    "    drop_column = data.columns[0]\n",
    "    data.reset_index(inplace=True)\n",
    "    data.drop(drop_column, axis=1, inplace=True)\n",
    "\n",
    "    if  element == \"wind\":\n",
    "        data = data[[\"level_0\",\"level_1\",\"level_3\"]]\n",
    "        colnames = [\"年月日時\",\"風速(m/s)\",\"風向\"]\n",
    "        data.drop([0,1,2,3],axis=0, inplace=True)\n",
    "    else:\n",
    "        data = data[[\"level_0\",\"level_1\"]]\n",
    "        colnames = data.iloc[1].values.tolist()\n",
    "        data.drop([0,1,2],axis=0, inplace=True)\n",
    "\n",
    "    data.set_axis(colnames, axis=1, inplace=True)\n",
    "    data.reset_index(drop=True,inplace=True)\n",
    "    \n",
    "    return data"
   ]
  },
  {
   "cell_type": "code",
   "execution_count": 338,
   "id": "031e6e59",
   "metadata": {},
   "outputs": [],
   "source": [
    "def rename_column_and_trans_type(data, year, element, status):\n",
    "\n",
    "    '''カラム名の修正と型変換'''\n",
    "\n",
    "    if element == \"wind\":\n",
    "        before_name1 = status[element][\"before_colname\"][1]\n",
    "        after_name1 = status[element][\"after_colname\"][1]\n",
    "        before_name3 = status[element][\"before_colname\"][3]\n",
    "        after_name3 = status[element][\"after_colname\"][3]\n",
    "        data.rename(columns={before_name1:after_name1,before_name3:after_name3}, inplace=True)\n",
    "        feature_names = [\"年月日時\",after_name1, after_name3]\n",
    "        data = data[feature_names]\n",
    "\n",
    "        dtype1, dtype3 = status[element][\"dtype\"].values()\n",
    "        data[after_name1] = data[after_name1].astype(dtype1)\n",
    "        data[after_name3] = data[after_name3].astype(dtype3)\n",
    "        \n",
    "    else:\n",
    "        before_name = status[element][\"before_colname\"]\n",
    "        after_name = status[element][\"after_colname\"]\n",
    "        data.rename(columns={before_name:after_name}, inplace=True)\n",
    "        feature_names = [\"年月日時\",after_name]\n",
    "        data = data[feature_names]\n",
    "        # 天気と雲量はnanを含むから後で処理しようね\n",
    "        if element != \"weather\" and element != \"cloud\":\n",
    "            dtype = status[element][\"dtype\"]\n",
    "            data[after_name] = data[after_name].astype(dtype)\n",
    "            \n",
    "    return data"
   ]
  },
  {
   "cell_type": "code",
   "execution_count": 345,
   "id": "4af161f8",
   "metadata": {},
   "outputs": [],
   "source": [
    "def trans_datetime(data):\n",
    "    \n",
    "    '''\"年月日時\"を分割する'''\n",
    "    \n",
    "    data[\"年月日時\"] = pd.to_datetime(data[\"年月日時\"])\n",
    "    data[[\"year\",\"month\",\"day\",\"hour\"]] = data.apply(\n",
    "        lambda x: [x.年月日時.year,x.年月日時.month,x.年月日時.day,x.年月日時.hour], axis=1, result_type=\"expand\")\n",
    "    \n",
    "    return data"
   ]
  },
  {
   "cell_type": "code",
   "execution_count": 347,
   "id": "c0f1607a",
   "metadata": {},
   "outputs": [],
   "source": [
    "def sort_columns(data):\n",
    "    \n",
    "    '''カラムを並べ替える'''\n",
    "    \n",
    "    feature_name = ['year', 'month', 'day', 'hour', 'temperature', 'precipitation', 'sunshine', 'wind_speed', 'wind_direction', 'pressure', 'humidity', 'weather', 'cloud', ]\n",
    "    data = data[feature_name]\n",
    "    \n",
    "    return data"
   ]
  },
  {
   "cell_type": "code",
   "execution_count": 380,
   "id": "cac3bf44",
   "metadata": {
    "scrolled": true
   },
   "outputs": [],
   "source": [
    "# 気温データの加工\n",
    "start_year = 2022 - 19\n",
    "weather_data = pd.DataFrame()\n",
    "data_year = pd.DataFrame()\n",
    "\n",
    "for i in range(20):\n",
    "    year = start_year + i\n",
    "    for num, element in enumerate(status.keys()):\n",
    "\n",
    "        # 読み込みと整形\n",
    "        data = lead_and_preprocess_data(year, element)\n",
    "\n",
    "        # カラム名を修正と型変換\n",
    "        data = rename_column_and_trans_type(data, year, element, status)\n",
    "\n",
    "        # 結合\n",
    "        if num == 0:\n",
    "            data_year = data\n",
    "        else:\n",
    "            data_year = pd.merge(data_year, data, on=\"年月日時\", how=\"left\")\n",
    "\n",
    "    # 年月日時を分割\n",
    "    data_year = trans_datetime(data_year)\n",
    "    # 並べ替え\n",
    "    data_year = sort_columns(data_year)\n",
    "    # 1日分重複したので削る\n",
    "    data_year = data_year[24:]\n",
    "    \n",
    "    # 親データに追加\n",
    "    weather_data = pd.concat([weather_data,data_year],axis=0)\n",
    "    \n",
    "# Index番号を振りなおす\n",
    "weather_data.reset_index(inplace=True)"
   ]
  },
  {
   "cell_type": "code",
   "execution_count": 383,
   "id": "d3b9a042",
   "metadata": {},
   "outputs": [],
   "source": []
  },
  {
   "cell_type": "code",
   "execution_count": 386,
   "id": "b0a7dd87",
   "metadata": {},
   "outputs": [],
   "source": [
    "# csvに保存\n",
    "weather_data.to_csv(\"./../data/weather_data.csv\")"
   ]
  },
  {
   "cell_type": "code",
   "execution_count": null,
   "id": "b7ce61cb",
   "metadata": {},
   "outputs": [],
   "source": []
  }
 ],
 "metadata": {
  "kernelspec": {
   "display_name": "Python 3 (ipykernel)",
   "language": "python",
   "name": "python3"
  },
  "language_info": {
   "codemirror_mode": {
    "name": "ipython",
    "version": 3
   },
   "file_extension": ".py",
   "mimetype": "text/x-python",
   "name": "python",
   "nbconvert_exporter": "python",
   "pygments_lexer": "ipython3",
   "version": "3.9.12"
  }
 },
 "nbformat": 4,
 "nbformat_minor": 5
}
