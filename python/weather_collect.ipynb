{
 "cells": [
  {
   "cell_type": "code",
   "execution_count": 546,
   "id": "a0795beb",
   "metadata": {},
   "outputs": [],
   "source": [
    "import json\n",
    "import requests\n",
    "import urllib\n",
    "import os\n",
    "import pandas as pd\n",
    "import numpy as np\n",
    "import matplotlib.pyplot as plt"
   ]
  },
  {
   "cell_type": "code",
   "execution_count": 547,
   "id": "f12d4814",
   "metadata": {},
   "outputs": [],
   "source": [
    "# apiからjson形式で天気予報データをもらえる\n",
    "# 観測値じゃなくて予測値ですなこれ\n",
    "url = \"https://www.jma.go.jp/bosai/forecast/data/forecast/130000.json\"\n",
    "response = requests.get(url)\n",
    "json_data = response.json()"
   ]
  },
  {
   "cell_type": "code",
   "execution_count": 12,
   "id": "2f88699e",
   "metadata": {},
   "outputs": [
    {
     "name": "stdout",
     "output_type": "stream",
     "text": [
      "今のディレクトリ： C:\\Users\\doubl\\Desktop\\weather_forecast\\python\n"
     ]
    }
   ],
   "source": [
    "# ディレクトリ参照\n",
    "\n",
    "# 現在地\n",
    "print(\"今のディレクトリ：\",os.getcwd())\n",
    "\n",
    "# ファイルパス\n",
    "# .ipynbだと__file__が使えないらしい\n",
    "# print(os.path.abspath(__file__))\n",
    "\n",
    "# 稼働中のファイル名\n",
    "# print(os.path.baseame(__file__))\n",
    "\n",
    "# ファイルのあるディレクトリ\n",
    "# print(os.path.dirname(__file__))\n",
    "\n",
    "# 絶対パスが欲しい\n",
    "# print(os.path.abspath(__file__))"
   ]
  },
  {
   "cell_type": "code",
   "execution_count": 25,
   "id": "bb00a831",
   "metadata": {
    "scrolled": true
   },
   "outputs": [
    {
     "name": "stdout",
     "output_type": "stream",
     "text": [
      "親ディレクトリ： C:\\Users\\doubl\\Desktop\\weather_forecast\n"
     ]
    }
   ],
   "source": [
    "# 親ディレクトリその１\n",
    "# 入れ子構造がうるさいか\n",
    "parent_dir_path = os.path.normpath(os.path.join(os.path.abspath(os.getcwd()),\"../\"))\n",
    "print(\"親ディレクトリ：\",parent_dir_path)"
   ]
  },
  {
   "cell_type": "code",
   "execution_count": 20,
   "id": "506d8540",
   "metadata": {},
   "outputs": [
    {
     "name": "stdout",
     "output_type": "stream",
     "text": [
      "親ディレクトリ： C:\\Users\\doubl\\Desktop\\weather_forecast\n"
     ]
    }
   ],
   "source": [
    "# 親ディレクトリその２\n",
    "from pathlib import Path\n",
    "print(\"親ディレクトリ：\",Path(os.getcwd()).parent)"
   ]
  },
  {
   "cell_type": "code",
   "execution_count": 26,
   "id": "8039be61",
   "metadata": {
    "collapsed": true
   },
   "outputs": [
    {
     "ename": "TypeError",
     "evalue": "unsupported operand type(s) for +: 'WindowsPath' and 'str'",
     "output_type": "error",
     "traceback": [
      "\u001b[1;31m---------------------------------------------------------------------------\u001b[0m",
      "\u001b[1;31mTypeError\u001b[0m                                 Traceback (most recent call last)",
      "Input \u001b[1;32mIn [26]\u001b[0m, in \u001b[0;36m<cell line: 2>\u001b[1;34m()\u001b[0m\n\u001b[0;32m      1\u001b[0m \u001b[38;5;66;03m# csvファイルを保存する場所のパス\u001b[39;00m\n\u001b[1;32m----> 2\u001b[0m csvfile_path \u001b[38;5;241m=\u001b[39m \u001b[43mPath\u001b[49m\u001b[43m(\u001b[49m\u001b[43mos\u001b[49m\u001b[38;5;241;43m.\u001b[39;49m\u001b[43mgetcwd\u001b[49m\u001b[43m(\u001b[49m\u001b[43m)\u001b[49m\u001b[43m)\u001b[49m\u001b[38;5;241;43m.\u001b[39;49m\u001b[43mparent\u001b[49m\u001b[43m \u001b[49m\u001b[38;5;241;43m+\u001b[39;49m\u001b[43m \u001b[49m\u001b[38;5;124;43m\"\u001b[39;49m\u001b[38;5;130;43;01m\\\\\u001b[39;49;00m\u001b[38;5;124;43mdata\u001b[39;49m\u001b[38;5;124;43m\"\u001b[39;49m\n",
      "\u001b[1;31mTypeError\u001b[0m: unsupported operand type(s) for +: 'WindowsPath' and 'str'"
     ]
    }
   ],
   "source": [
    "# csvファイルを保存する場所のパス\n",
    "# Pathは'WindowsPath'型がうるさい\n",
    "csvfile_path = Path(os.getcwd()).parent + \"\\\\data\""
   ]
  },
  {
   "cell_type": "markdown",
   "id": "996361d9",
   "metadata": {},
   "source": [
    "# pythonファイルが勝手にcsvファイルを拾ってくる"
   ]
  },
  {
   "cell_type": "code",
   "execution_count": 330,
   "id": "4cc4a7a5",
   "metadata": {},
   "outputs": [],
   "source": [
    "from selenium import webdriver # chrome driver を動かすために必要\n",
    "from selenium.webdriver.chrome import service as fs"
   ]
  },
  {
   "cell_type": "code",
   "execution_count": 24,
   "id": "b060d5a3",
   "metadata": {},
   "outputs": [],
   "source": [
    "# chrome driver を動かすためのもの\n",
    "# pip install selenium"
   ]
  },
  {
   "cell_type": "code",
   "execution_count": 20,
   "id": "8a795142",
   "metadata": {},
   "outputs": [
    {
     "name": "stdout",
     "output_type": "stream",
     "text": [
      "C:\\Users\\doubl\\Desktop\\weather_forecast\\chromedriver.exe\n"
     ]
    }
   ],
   "source": [
    "# chromedriverのパス\n",
    "# chromedriverとはpythonがブラウザを動かすために必要なもの\n",
    "current_path = os.path.abspath(os.getcwd())\n",
    "relative_path = \"..\\chromedriver.exe\"\n",
    "driver_path = os.path.normpath(os.path.join(current_path, relative_path))\n",
    "print(driver_path)"
   ]
  },
  {
   "cell_type": "code",
   "execution_count": 530,
   "id": "e0045362",
   "metadata": {},
   "outputs": [
    {
     "name": "stdout",
     "output_type": "stream",
     "text": [
      "C:\\Users\\doubl\\Desktop\\weather_forecast\\data\n"
     ]
    }
   ],
   "source": [
    "# csvファイルを保存する場所のパス\n",
    "# Pathは'WindowsPath'型がうるさい\n",
    "current_path = os.path.abspath(os.getcwd())\n",
    "relative_path = \"..\\data\\csv\"\n",
    "csvfile_path = os.path.normpath(os.path.join(current_path, relative_path))\n",
    "print(csvfile_path)"
   ]
  },
  {
   "cell_type": "code",
   "execution_count": 26,
   "id": "edd9b912",
   "metadata": {},
   "outputs": [],
   "source": [
    "# ダウンロードだいるの保存場所を指定するためにつかうらしい\n",
    "def Enable_download_in_headless_chrome(driver, path):\n",
    "    driver.command_executor._commands[\"send_command\"] = (\"POST\", '/session/$sessionId/chromium/send_command')\n",
    "    params = {'cmd': 'Page.setDownloadBehavior', 'params': {'behavior': 'allow', 'downloadPath': path}}\n",
    "    driver.execute(\"send_command\", params)"
   ]
  },
  {
   "cell_type": "code",
   "execution_count": 31,
   "id": "06cb773b",
   "metadata": {},
   "outputs": [],
   "source": [
    "# chrome driver の準備\n",
    "chrome_service = fs.Service(executable_path=driver_path)\n",
    "driver = webdriver.Chrome(service=chrome_service)\n",
    "Enable_download_in_headless_chrome(driver,csvfile_path)"
   ]
  },
  {
   "cell_type": "code",
   "execution_count": 33,
   "id": "f476fb06",
   "metadata": {},
   "outputs": [],
   "source": [
    "# csvファイルのダウンロードができるurl\n",
    "rooturl = \"https://www.data.jma.go.jp/stats/data/mdrr/docs/csv_dl_format_preall.html\"\n",
    "relative_url = \"../pre_rct/alltable/preall00_rct.csv\"\n",
    "get_csv_url = urllib.parse.urljoin(rooturl,relative_url)"
   ]
  },
  {
   "cell_type": "code",
   "execution_count": 37,
   "id": "10b82a1a",
   "metadata": {},
   "outputs": [],
   "source": [
    "# csvファイルを拾ってくる\n",
    "driver.get(get_csv_url)"
   ]
  },
  {
   "cell_type": "code",
   "execution_count": 41,
   "id": "bab517cd",
   "metadata": {
    "scrolled": true
   },
   "outputs": [],
   "source": [
    "# 最新の気象情報\n",
    "weather = pd.read_csv(\"./../data/preall00_rct.csv\", encoding=\"shift-jis\")"
   ]
  },
  {
   "cell_type": "code",
   "execution_count": 43,
   "id": "27cf6d7c",
   "metadata": {
    "collapsed": true
   },
   "outputs": [
    {
     "data": {
      "text/plain": [
       "Index(['観測所番号', '都道府県', '地点', '国際地点番号', '現在時刻(年)', '現在時刻(月)', '現在時刻(日)',\n",
       "       '現在時刻(時)', '現在時刻(分)', '1時間降水量極値更新', '1時間降水量極値更新（10年未満）', '3時間降水量極値更新',\n",
       "       '3時間降水量極値更新（10年未満）', '6時間降水量極値更新', '6時間降水量極値更新（10年未満）', '12時間降水量極値更新',\n",
       "       '12時間降水量極値更新（10年未満）', '24時間降水量極値更新', '24時間降水量極値更新（10年未満）',\n",
       "       '48時間降水量極値更新', '48時間降水量極値更新（10年未満）', '72時間降水量極値更新',\n",
       "       '72時間降水量極値更新（10年未満）', '日降水量極値更新', '日降水量極値更新（10年未満）', '1時間降水量 現在値(mm)',\n",
       "       '1時間降水量 現在値の品質情報', '1時間降水量 今日の最大値(mm)', '1時間降水量 今日の最大値の品質情報',\n",
       "       '3時間降水量 現在値(mm)', '3時間降水量 現在値の品質情報', '3時間降水量 今日の最大値(mm)',\n",
       "       '3時間降水量 今日の最大値の品質情報', '6時間降水量 現在値(mm)', '6時間降水量 現在値の品質情報',\n",
       "       '6時間降水量 今日の最大値(mm)', '6時間降水量 今日の最大値の品質情報', '12時間降水量 現在値(mm)',\n",
       "       '12時間降水量 現在値の品質情報', '12時間降水量 今日の最大値(mm)', '12時間降水量 今日の最大値の品質情報',\n",
       "       '24時間降水量 現在値(mm)', '24時間降水量 現在値の品質情報', '24時間降水量 今日の最大値(mm)',\n",
       "       '24時間降水量 今日の最大値の品質情報', '48時間降水量 現在値(mm)', '48時間降水量 現在値の品質情報',\n",
       "       '48時間降水量 今日の最大値(mm)', '48時間降水量 今日の最大値の品質情報', '72時間降水量 現在値(mm)',\n",
       "       '72時間降水量 現在値の品質情報', '72時間降水量 今日の最大値(mm)', '72時間降水量 今日の最大値の品質情報',\n",
       "       '日降水量 今日の値(mm)', '日降水量 今日の値の品質情報'],\n",
       "      dtype='object')"
      ]
     },
     "execution_count": 43,
     "metadata": {},
     "output_type": "execute_result"
    }
   ],
   "source": [
    "weather.columns"
   ]
  },
  {
   "cell_type": "code",
   "execution_count": 68,
   "id": "7272fe29",
   "metadata": {
    "collapsed": true
   },
   "outputs": [
    {
     "data": {
      "text/html": [
       "<div>\n",
       "<style scoped>\n",
       "    .dataframe tbody tr th:only-of-type {\n",
       "        vertical-align: middle;\n",
       "    }\n",
       "\n",
       "    .dataframe tbody tr th {\n",
       "        vertical-align: top;\n",
       "    }\n",
       "\n",
       "    .dataframe thead th {\n",
       "        text-align: right;\n",
       "    }\n",
       "</style>\n",
       "<table border=\"1\" class=\"dataframe\">\n",
       "  <thead>\n",
       "    <tr style=\"text-align: right;\">\n",
       "      <th></th>\n",
       "      <th>観測所番号</th>\n",
       "      <th>都道府県</th>\n",
       "      <th>地点</th>\n",
       "      <th>国際地点番号</th>\n",
       "      <th>現在時刻(年)</th>\n",
       "      <th>現在時刻(月)</th>\n",
       "      <th>現在時刻(日)</th>\n",
       "      <th>現在時刻(時)</th>\n",
       "      <th>現在時刻(分)</th>\n",
       "      <th>1時間降水量極値更新</th>\n",
       "      <th>...</th>\n",
       "      <th>48時間降水量 現在値(mm)</th>\n",
       "      <th>48時間降水量 現在値の品質情報</th>\n",
       "      <th>48時間降水量 今日の最大値(mm)</th>\n",
       "      <th>48時間降水量 今日の最大値の品質情報</th>\n",
       "      <th>72時間降水量 現在値(mm)</th>\n",
       "      <th>72時間降水量 現在値の品質情報</th>\n",
       "      <th>72時間降水量 今日の最大値(mm)</th>\n",
       "      <th>72時間降水量 今日の最大値の品質情報</th>\n",
       "      <th>日降水量 今日の値(mm)</th>\n",
       "      <th>日降水量 今日の値の品質情報</th>\n",
       "    </tr>\n",
       "  </thead>\n",
       "  <tbody>\n",
       "    <tr>\n",
       "      <th>510</th>\n",
       "      <td>44132</td>\n",
       "      <td>東京都</td>\n",
       "      <td>東京（トウキョウ）</td>\n",
       "      <td>47662.0</td>\n",
       "      <td>2022</td>\n",
       "      <td>11</td>\n",
       "      <td>30</td>\n",
       "      <td>13</td>\n",
       "      <td>30</td>\n",
       "      <td>NaN</td>\n",
       "      <td>...</td>\n",
       "      <td>43.0</td>\n",
       "      <td>8</td>\n",
       "      <td>43.0</td>\n",
       "      <td>4</td>\n",
       "      <td>43.0</td>\n",
       "      <td>8</td>\n",
       "      <td>43.0</td>\n",
       "      <td>4</td>\n",
       "      <td>32.5</td>\n",
       "      <td>4</td>\n",
       "    </tr>\n",
       "  </tbody>\n",
       "</table>\n",
       "<p>1 rows × 55 columns</p>\n",
       "</div>"
      ],
      "text/plain": [
       "     観測所番号 都道府県         地点   国際地点番号  現在時刻(年)  現在時刻(月)  現在時刻(日)  現在時刻(時)  \\\n",
       "510  44132  東京都  東京（トウキョウ）  47662.0     2022       11       30       13   \n",
       "\n",
       "     現在時刻(分)  1時間降水量極値更新  ...  48時間降水量 現在値(mm)  48時間降水量 現在値の品質情報  \\\n",
       "510       30         NaN  ...             43.0                 8   \n",
       "\n",
       "     48時間降水量 今日の最大値(mm)  48時間降水量 今日の最大値の品質情報  72時間降水量 現在値(mm)  \\\n",
       "510                43.0                    4             43.0   \n",
       "\n",
       "     72時間降水量 現在値の品質情報  72時間降水量 今日の最大値(mm)  72時間降水量 今日の最大値の品質情報  日降水量 今日の値(mm)  \\\n",
       "510                 8                43.0                    4           32.5   \n",
       "\n",
       "     日降水量 今日の値の品質情報  \n",
       "510               4  \n",
       "\n",
       "[1 rows x 55 columns]"
      ]
     },
     "execution_count": 68,
     "metadata": {},
     "output_type": "execute_result"
    }
   ],
   "source": [
    "condition_prefecture = weather[\"都道府県\"] == \"東京都\"\n",
    "condition_area = weather[\"地点\"] == \"東京（トウキョウ）\"\n",
    "weather.loc[condition_area]"
   ]
  },
  {
   "cell_type": "code",
   "execution_count": 73,
   "id": "208acfc1",
   "metadata": {
    "scrolled": true
   },
   "outputs": [
    {
     "data": {
      "text/html": [
       "<div>\n",
       "<style scoped>\n",
       "    .dataframe tbody tr th:only-of-type {\n",
       "        vertical-align: middle;\n",
       "    }\n",
       "\n",
       "    .dataframe tbody tr th {\n",
       "        vertical-align: top;\n",
       "    }\n",
       "\n",
       "    .dataframe thead th {\n",
       "        text-align: right;\n",
       "    }\n",
       "</style>\n",
       "<table border=\"1\" class=\"dataframe\">\n",
       "  <thead>\n",
       "    <tr style=\"text-align: right;\">\n",
       "      <th></th>\n",
       "      <th>510</th>\n",
       "    </tr>\n",
       "  </thead>\n",
       "  <tbody>\n",
       "    <tr>\n",
       "      <th>観測所番号</th>\n",
       "      <td>44132</td>\n",
       "    </tr>\n",
       "    <tr>\n",
       "      <th>都道府県</th>\n",
       "      <td>東京都</td>\n",
       "    </tr>\n",
       "    <tr>\n",
       "      <th>地点</th>\n",
       "      <td>東京（トウキョウ）</td>\n",
       "    </tr>\n",
       "    <tr>\n",
       "      <th>国際地点番号</th>\n",
       "      <td>47662.0</td>\n",
       "    </tr>\n",
       "    <tr>\n",
       "      <th>現在時刻(年)</th>\n",
       "      <td>2022</td>\n",
       "    </tr>\n",
       "    <tr>\n",
       "      <th>現在時刻(月)</th>\n",
       "      <td>11</td>\n",
       "    </tr>\n",
       "    <tr>\n",
       "      <th>現在時刻(日)</th>\n",
       "      <td>30</td>\n",
       "    </tr>\n",
       "    <tr>\n",
       "      <th>現在時刻(時)</th>\n",
       "      <td>13</td>\n",
       "    </tr>\n",
       "    <tr>\n",
       "      <th>現在時刻(分)</th>\n",
       "      <td>30</td>\n",
       "    </tr>\n",
       "    <tr>\n",
       "      <th>1時間降水量極値更新</th>\n",
       "      <td>NaN</td>\n",
       "    </tr>\n",
       "    <tr>\n",
       "      <th>1時間降水量極値更新（10年未満）</th>\n",
       "      <td>NaN</td>\n",
       "    </tr>\n",
       "    <tr>\n",
       "      <th>3時間降水量極値更新</th>\n",
       "      <td>NaN</td>\n",
       "    </tr>\n",
       "    <tr>\n",
       "      <th>3時間降水量極値更新（10年未満）</th>\n",
       "      <td>NaN</td>\n",
       "    </tr>\n",
       "    <tr>\n",
       "      <th>6時間降水量極値更新</th>\n",
       "      <td>NaN</td>\n",
       "    </tr>\n",
       "    <tr>\n",
       "      <th>6時間降水量極値更新（10年未満）</th>\n",
       "      <td>NaN</td>\n",
       "    </tr>\n",
       "    <tr>\n",
       "      <th>12時間降水量極値更新</th>\n",
       "      <td>NaN</td>\n",
       "    </tr>\n",
       "    <tr>\n",
       "      <th>12時間降水量極値更新（10年未満）</th>\n",
       "      <td>NaN</td>\n",
       "    </tr>\n",
       "    <tr>\n",
       "      <th>24時間降水量極値更新</th>\n",
       "      <td>NaN</td>\n",
       "    </tr>\n",
       "    <tr>\n",
       "      <th>24時間降水量極値更新（10年未満）</th>\n",
       "      <td>NaN</td>\n",
       "    </tr>\n",
       "    <tr>\n",
       "      <th>48時間降水量極値更新</th>\n",
       "      <td>NaN</td>\n",
       "    </tr>\n",
       "    <tr>\n",
       "      <th>48時間降水量極値更新（10年未満）</th>\n",
       "      <td>NaN</td>\n",
       "    </tr>\n",
       "    <tr>\n",
       "      <th>72時間降水量極値更新</th>\n",
       "      <td>NaN</td>\n",
       "    </tr>\n",
       "    <tr>\n",
       "      <th>72時間降水量極値更新（10年未満）</th>\n",
       "      <td>NaN</td>\n",
       "    </tr>\n",
       "    <tr>\n",
       "      <th>日降水量極値更新</th>\n",
       "      <td>NaN</td>\n",
       "    </tr>\n",
       "    <tr>\n",
       "      <th>日降水量極値更新（10年未満）</th>\n",
       "      <td>NaN</td>\n",
       "    </tr>\n",
       "    <tr>\n",
       "      <th>1時間降水量 現在値(mm)</th>\n",
       "      <td>0.0</td>\n",
       "    </tr>\n",
       "    <tr>\n",
       "      <th>1時間降水量 現在値の品質情報</th>\n",
       "      <td>8</td>\n",
       "    </tr>\n",
       "    <tr>\n",
       "      <th>1時間降水量 今日の最大値(mm)</th>\n",
       "      <td>27.0</td>\n",
       "    </tr>\n",
       "    <tr>\n",
       "      <th>1時間降水量 今日の最大値の品質情報</th>\n",
       "      <td>4</td>\n",
       "    </tr>\n",
       "    <tr>\n",
       "      <th>3時間降水量 現在値(mm)</th>\n",
       "      <td>0.0</td>\n",
       "    </tr>\n",
       "    <tr>\n",
       "      <th>3時間降水量 現在値の品質情報</th>\n",
       "      <td>8</td>\n",
       "    </tr>\n",
       "    <tr>\n",
       "      <th>3時間降水量 今日の最大値(mm)</th>\n",
       "      <td>32.5</td>\n",
       "    </tr>\n",
       "    <tr>\n",
       "      <th>3時間降水量 今日の最大値の品質情報</th>\n",
       "      <td>4</td>\n",
       "    </tr>\n",
       "    <tr>\n",
       "      <th>6時間降水量 現在値(mm)</th>\n",
       "      <td>0.0</td>\n",
       "    </tr>\n",
       "    <tr>\n",
       "      <th>6時間降水量 現在値の品質情報</th>\n",
       "      <td>8</td>\n",
       "    </tr>\n",
       "    <tr>\n",
       "      <th>6時間降水量 今日の最大値(mm)</th>\n",
       "      <td>34.5</td>\n",
       "    </tr>\n",
       "    <tr>\n",
       "      <th>6時間降水量 今日の最大値の品質情報</th>\n",
       "      <td>4</td>\n",
       "    </tr>\n",
       "    <tr>\n",
       "      <th>12時間降水量 現在値(mm)</th>\n",
       "      <td>11.0</td>\n",
       "    </tr>\n",
       "    <tr>\n",
       "      <th>12時間降水量 現在値の品質情報</th>\n",
       "      <td>8</td>\n",
       "    </tr>\n",
       "    <tr>\n",
       "      <th>12時間降水量 今日の最大値(mm)</th>\n",
       "      <td>43.0</td>\n",
       "    </tr>\n",
       "    <tr>\n",
       "      <th>12時間降水量 今日の最大値の品質情報</th>\n",
       "      <td>4</td>\n",
       "    </tr>\n",
       "    <tr>\n",
       "      <th>24時間降水量 現在値(mm)</th>\n",
       "      <td>43.0</td>\n",
       "    </tr>\n",
       "    <tr>\n",
       "      <th>24時間降水量 現在値の品質情報</th>\n",
       "      <td>8</td>\n",
       "    </tr>\n",
       "    <tr>\n",
       "      <th>24時間降水量 今日の最大値(mm)</th>\n",
       "      <td>43.0</td>\n",
       "    </tr>\n",
       "    <tr>\n",
       "      <th>24時間降水量 今日の最大値の品質情報</th>\n",
       "      <td>4</td>\n",
       "    </tr>\n",
       "    <tr>\n",
       "      <th>48時間降水量 現在値(mm)</th>\n",
       "      <td>43.0</td>\n",
       "    </tr>\n",
       "    <tr>\n",
       "      <th>48時間降水量 現在値の品質情報</th>\n",
       "      <td>8</td>\n",
       "    </tr>\n",
       "    <tr>\n",
       "      <th>48時間降水量 今日の最大値(mm)</th>\n",
       "      <td>43.0</td>\n",
       "    </tr>\n",
       "    <tr>\n",
       "      <th>48時間降水量 今日の最大値の品質情報</th>\n",
       "      <td>4</td>\n",
       "    </tr>\n",
       "    <tr>\n",
       "      <th>72時間降水量 現在値(mm)</th>\n",
       "      <td>43.0</td>\n",
       "    </tr>\n",
       "    <tr>\n",
       "      <th>72時間降水量 現在値の品質情報</th>\n",
       "      <td>8</td>\n",
       "    </tr>\n",
       "    <tr>\n",
       "      <th>72時間降水量 今日の最大値(mm)</th>\n",
       "      <td>43.0</td>\n",
       "    </tr>\n",
       "    <tr>\n",
       "      <th>72時間降水量 今日の最大値の品質情報</th>\n",
       "      <td>4</td>\n",
       "    </tr>\n",
       "    <tr>\n",
       "      <th>日降水量 今日の値(mm)</th>\n",
       "      <td>32.5</td>\n",
       "    </tr>\n",
       "    <tr>\n",
       "      <th>日降水量 今日の値の品質情報</th>\n",
       "      <td>4</td>\n",
       "    </tr>\n",
       "  </tbody>\n",
       "</table>\n",
       "</div>"
      ],
      "text/plain": [
       "                           510\n",
       "観測所番号                    44132\n",
       "都道府県                       東京都\n",
       "地点                   東京（トウキョウ）\n",
       "国際地点番号                 47662.0\n",
       "現在時刻(年)                   2022\n",
       "現在時刻(月)                     11\n",
       "現在時刻(日)                     30\n",
       "現在時刻(時)                     13\n",
       "現在時刻(分)                     30\n",
       "1時間降水量極値更新                 NaN\n",
       "1時間降水量極値更新（10年未満）          NaN\n",
       "3時間降水量極値更新                 NaN\n",
       "3時間降水量極値更新（10年未満）          NaN\n",
       "6時間降水量極値更新                 NaN\n",
       "6時間降水量極値更新（10年未満）          NaN\n",
       "12時間降水量極値更新                NaN\n",
       "12時間降水量極値更新（10年未満）         NaN\n",
       "24時間降水量極値更新                NaN\n",
       "24時間降水量極値更新（10年未満）         NaN\n",
       "48時間降水量極値更新                NaN\n",
       "48時間降水量極値更新（10年未満）         NaN\n",
       "72時間降水量極値更新                NaN\n",
       "72時間降水量極値更新（10年未満）         NaN\n",
       "日降水量極値更新                   NaN\n",
       "日降水量極値更新（10年未満）            NaN\n",
       "1時間降水量 現在値(mm)             0.0\n",
       "1時間降水量 現在値の品質情報              8\n",
       "1時間降水量 今日の最大値(mm)         27.0\n",
       "1時間降水量 今日の最大値の品質情報           4\n",
       "3時間降水量 現在値(mm)             0.0\n",
       "3時間降水量 現在値の品質情報              8\n",
       "3時間降水量 今日の最大値(mm)         32.5\n",
       "3時間降水量 今日の最大値の品質情報           4\n",
       "6時間降水量 現在値(mm)             0.0\n",
       "6時間降水量 現在値の品質情報              8\n",
       "6時間降水量 今日の最大値(mm)         34.5\n",
       "6時間降水量 今日の最大値の品質情報           4\n",
       "12時間降水量 現在値(mm)           11.0\n",
       "12時間降水量 現在値の品質情報             8\n",
       "12時間降水量 今日の最大値(mm)        43.0\n",
       "12時間降水量 今日の最大値の品質情報          4\n",
       "24時間降水量 現在値(mm)           43.0\n",
       "24時間降水量 現在値の品質情報             8\n",
       "24時間降水量 今日の最大値(mm)        43.0\n",
       "24時間降水量 今日の最大値の品質情報          4\n",
       "48時間降水量 現在値(mm)           43.0\n",
       "48時間降水量 現在値の品質情報             8\n",
       "48時間降水量 今日の最大値(mm)        43.0\n",
       "48時間降水量 今日の最大値の品質情報          4\n",
       "72時間降水量 現在値(mm)           43.0\n",
       "72時間降水量 現在値の品質情報             8\n",
       "72時間降水量 今日の最大値(mm)        43.0\n",
       "72時間降水量 今日の最大値の品質情報          4\n",
       "日降水量 今日の値(mm)             32.5\n",
       "日降水量 今日の値の品質情報               4"
      ]
     },
     "execution_count": 73,
     "metadata": {},
     "output_type": "execute_result"
    }
   ],
   "source": [
    "weather.loc[condition_area].T"
   ]
  },
  {
   "cell_type": "markdown",
   "id": "f41f3202",
   "metadata": {},
   "source": [
    "# 過去のデータを拾ってくることはできるか？"
   ]
  },
  {
   "cell_type": "markdown",
   "id": "a7eff833",
   "metadata": {},
   "source": [
    "結論：過去20年分のデータを拾ってくることに成功した"
   ]
  },
  {
   "cell_type": "code",
   "execution_count": 548,
   "id": "3d9899ff",
   "metadata": {},
   "outputs": [],
   "source": [
    "from selenium import webdriver # chrome driver を動かすために必要\n",
    "from selenium.webdriver.chrome import service as fs\n",
    "from selenium.webdriver.common.by import By\n",
    "from selenium.webdriver.support.select import Select # プルダウン\n",
    "from selenium.webdriver.support.ui import WebDriverWait # 開くまで待機\n",
    "from selenium.webdriver.support import expected_conditions as EC # ?\n",
    "import time"
   ]
  },
  {
   "cell_type": "code",
   "execution_count": 549,
   "id": "540a1bfe",
   "metadata": {},
   "outputs": [],
   "source": [
    "# 過去データをもらえるサイト\n",
    "past_weather_data_url = \"https://www.data.jma.go.jp/risk/obsdl/index.php\""
   ]
  },
  {
   "cell_type": "code",
   "execution_count": 550,
   "id": "0722c3be",
   "metadata": {},
   "outputs": [],
   "source": [
    "# ダウンロードファイルの保存場所を指定するためにつかうらしい\n",
    "def Enable_download_in_headless_chrome(driver, path):\n",
    "    driver.command_executor._commands[\"send_command\"] = (\"POST\", '/session/$sessionId/chromium/send_command')\n",
    "    params = {'cmd': 'Page.setDownloadBehavior', 'params': {'behavior': 'allow', 'downloadPath': path}}\n",
    "    driver.execute(\"send_command\", params)"
   ]
  },
  {
   "cell_type": "code",
   "execution_count": 551,
   "id": "8bba984a",
   "metadata": {},
   "outputs": [
    {
     "name": "stdout",
     "output_type": "stream",
     "text": [
      "C:\\Users\\doubl\\Desktop\\weather_forecast\\data\n"
     ]
    }
   ],
   "source": [
    "# csvファイルを保存する場所のパス\n",
    "# Pathは'WindowsPath'型がうるさい\n",
    "current_path = os.path.abspath(os.getcwd())\n",
    "relative_path = \"..\\data\\csv\"\n",
    "csvfile_path = os.path.normpath(os.path.join(current_path, relative_path))\n",
    "print(csvfile_path)"
   ]
  },
  {
   "cell_type": "code",
   "execution_count": 552,
   "id": "790d6358",
   "metadata": {},
   "outputs": [],
   "source": [
    "# chrome driver の準備\n",
    "chrome_service = fs.Service(executable_path=driver_path)\n",
    "driver = webdriver.Chrome(service=chrome_service)\n",
    "Enable_download_in_headless_chrome(driver,csvfile_path)\n",
    "# 待機の設定\n",
    "wait = WebDriverWait(driver,30)"
   ]
  },
  {
   "cell_type": "code",
   "execution_count": 553,
   "id": "a8a72dfd",
   "metadata": {},
   "outputs": [],
   "source": [
    "# ページに移動\n",
    "driver.get(past_weather_data_url)"
   ]
  },
  {
   "cell_type": "code",
   "execution_count": 554,
   "id": "a0194a11",
   "metadata": {
    "scrolled": true
   },
   "outputs": [],
   "source": [
    "# 東京エリアを指定\n",
    "wait.until(EC.presence_of_all_elements_located)\n",
    "time.sleep(1)\n",
    "driver.find_element(By.ID,\"pr44\").click()"
   ]
  },
  {
   "cell_type": "code",
   "execution_count": 555,
   "id": "b8926414",
   "metadata": {
    "scrolled": true
   },
   "outputs": [],
   "source": [
    "# 東京は16～19\n",
    "wait.until(EC.presence_of_all_elements_located)\n",
    "time.sleep(1)\n",
    "driver.find_element(By.ID,\"stationMap\").find_elements(By.TAG_NAME,\"div\")[16].click()"
   ]
  },
  {
   "cell_type": "code",
   "execution_count": 556,
   "id": "812ac77b",
   "metadata": {},
   "outputs": [],
   "source": [
    "# 「項目を選ぶ」ボタンを押す\n",
    "driver.find_element(By.ID,\"elementButton\").click()"
   ]
  },
  {
   "cell_type": "code",
   "execution_count": 557,
   "id": "ade13f3a",
   "metadata": {},
   "outputs": [],
   "source": [
    "# 時別値にする\n",
    "driver.find_element(By.NAME,\"aggrgPeriod\").click()"
   ]
  },
  {
   "cell_type": "code",
   "execution_count": 558,
   "id": "cf4f9cfb",
   "metadata": {
    "scrolled": true
   },
   "outputs": [],
   "source": [
    "# 分岐\n",
    "# 「気温」を選択　番号は[0]\n",
    "# 番号はチェックボックスの並ぶ順に対応するゾ\n",
    "wait.until(EC.presence_of_all_elements_located)\n",
    "time.sleep(1)\n",
    "driver.find_elements(By.NAME,\"element\")[0].click()"
   ]
  },
  {
   "cell_type": "code",
   "execution_count": 559,
   "id": "a8cb9434",
   "metadata": {},
   "outputs": [],
   "source": [
    "# 「期間を選ぶ」ボタンを押す\n",
    "driver.find_element(By.ID, \"periodButton\").click()"
   ]
  },
  {
   "cell_type": "code",
   "execution_count": 560,
   "id": "532e6552",
   "metadata": {
    "scrolled": true
   },
   "outputs": [],
   "source": [
    "# プルダウン選択\n",
    "wait.until(EC.presence_of_all_elements_located)\n",
    "# 開始：年\n",
    "pulldown = driver.find_elements(By.NAME,\"iniy\")[0]\n",
    "select = Select(pulldown)\n",
    "select.select_by_index(1)\n",
    "# 開始：月\n",
    "pulldown = driver.find_elements(By.NAME,\"inim\")[0]\n",
    "select = Select(pulldown)\n",
    "select.select_by_index(10)\n",
    "# 開始：日\n",
    "pulldown = driver.find_elements(By.NAME,\"inid\")[0]\n",
    "select = Select(pulldown)\n",
    "select.select_by_index(27)\n",
    "# 終了：年\n",
    "pulldown = driver.find_elements(By.NAME,\"endy\")[0]\n",
    "select = Select(pulldown)\n",
    "select.select_by_index(0)\n",
    "# 終了：月\n",
    "pulldown = driver.find_elements(By.NAME,\"endm\")[0]\n",
    "select = Select(pulldown)\n",
    "select.select_by_index(10)\n",
    "# 終了：日\n",
    "pulldown = driver.find_elements(By.NAME,\"endd\")[0]\n",
    "select = Select(pulldown)\n",
    "select.select_by_index(27)"
   ]
  },
  {
   "cell_type": "code",
   "execution_count": 561,
   "id": "2146770d",
   "metadata": {},
   "outputs": [],
   "source": [
    "# csvをダウンロード\n",
    "driver.find_element(By.ID,\"csvdl\").click()\n",
    "time.sleep(5)"
   ]
  },
  {
   "cell_type": "code",
   "execution_count": 562,
   "id": "ca339e1b",
   "metadata": {},
   "outputs": [],
   "source": [
    "# ファイル名を変更する\n",
    "before_current_path = os.path.abspath(os.getcwd())\n",
    "before_relative_path = \"..\\data\\csv\\data.csv\"\n",
    "before_name = os.path.normpath(os.path.join(current_path, relative_path))\n",
    "after_current_path = os.path.abspath(os.getcwd())\n",
    "after_relative_path = \"..\\data\\csv\\data_temperture_2022.csv\"\n",
    "after_name = os.path.normpath(os.path.join(current_path, relative_path))\n",
    "os.rename(before_name,after_name)"
   ]
  },
  {
   "cell_type": "code",
   "execution_count": 617,
   "id": "9dbe4efa",
   "metadata": {
    "scrolled": true
   },
   "outputs": [],
   "source": [
    "# 様々な気象情報を回収するゾ\n",
    "feature_names = [\n",
    "    \"気温\",\n",
    "    \"降水量\",\n",
    "    \"日照時間\",\n",
    "    \"風向・風速\",\n",
    "    \"全天日射量\",\n",
    "    \"現地気圧\",\n",
    "    \"相対湿度\",\n",
    "    \"天気\",\n",
    "    \"雲量\",\n",
    "]\n",
    "\n",
    "for i in range(20):\n",
    "    # 中断されてしまった時に続きから行う\n",
    "    if i != 5:\n",
    "        continue\n",
    "    \n",
    "    for num,feature_name in enumerate(feature_names):\n",
    "        if num < 4:\n",
    "            continue\n",
    "        \n",
    "        get_weather_infomation_csv(i, feature_name)\n",
    "\n",
    "# 2017のwind以降の回収を飛ばしたので後でやり直してね。"
   ]
  },
  {
   "cell_type": "code",
   "execution_count": 605,
   "id": "1f9d40ed",
   "metadata": {},
   "outputs": [],
   "source": [
    "def get_weather_infomation_csv(i, feature_name):\n",
    "    '''\n",
    "        欲しい年数と欲しい情報の配列を渡すと勝手に情報を拾ってきてくれるぞ。\n",
    "    '''\n",
    "    start_year = 2022\n",
    "    \n",
    "    status = {\n",
    "        \"気温\":{\"check\": 0, \"name\": \"temperature\",},\n",
    "        \"降水量\":{\"check\": 1, \"name\": \"precipitation\",},\n",
    "        \"日照時間\":{\"check\": 4, \"name\": \"sunshine\",},\n",
    "        \"風向・風速\":{\"check\": 5, \"name\": \"wind\",},\n",
    "        \"全天日射量\":{\"check\": 6, \"name\": \"solar\",},\n",
    "        \"現地気圧\":{\"check\": 7, \"name\": \"pressure\",},\n",
    "        \"相対湿度\":{\"check\": 9, \"name\": \"humidity\",},\n",
    "        \"天気\":{\"check\": 12, \"name\": \"weather\",},\n",
    "        \"雲量\":{\"check\": 13, \"name\": \"cloud\",},\n",
    "    }\n",
    "    \n",
    "    # chrome driver の準備\n",
    "    chrome_service = fs.Service(executable_path=driver_path)\n",
    "    driver = webdriver.Chrome(service=chrome_service)\n",
    "    Enable_download_in_headless_chrome(driver,csvfile_path)\n",
    "    # 待機の設定\n",
    "    wait = WebDriverWait(driver,30)\n",
    "\n",
    "    # ページに移動\n",
    "    driver.get(past_weather_data_url)\n",
    "\n",
    "    # 東京エリアを指定\n",
    "    wait.until(EC.presence_of_all_elements_located)\n",
    "    time.sleep(3)\n",
    "    driver.find_element(By.ID,\"pr44\").click()\n",
    "\n",
    "    # 東京は16～19\n",
    "    wait.until(EC.presence_of_all_elements_located)\n",
    "    time.sleep(1)\n",
    "    driver.find_element(By.ID,\"stationMap\").find_elements(By.TAG_NAME,\"div\")[16].click()\n",
    "\n",
    "    # 「項目を選ぶ」ボタンを押す\n",
    "    driver.find_element(By.ID,\"elementButton\").click()\n",
    "\n",
    "    # 時別値にする\n",
    "    wait.until(EC.presence_of_all_elements_located)\n",
    "    time.sleep(1)\n",
    "    driver.find_element(By.NAME,\"aggrgPeriod\").click()\n",
    "\n",
    "    # 分岐\n",
    "    # 「気温」を選択　番号は[0]\n",
    "    # 番号はチェックボックスの並ぶ順に対応するゾ\n",
    "    wait.until(EC.presence_of_all_elements_located)\n",
    "    time.sleep(1)\n",
    "    check_number = status[feature_name][\"check\"]\n",
    "    driver.find_elements(By.NAME,\"element\")[check_number].click()\n",
    "\n",
    "    # 「期間を選ぶ」ボタンを押す\n",
    "    driver.find_element(By.ID, \"periodButton\").click()\n",
    "\n",
    "    # プルダウン選択\n",
    "    wait.until(EC.presence_of_all_elements_located)\n",
    "    time.sleep(1)\n",
    "    # 開始：年\n",
    "    pulldown = driver.find_elements(By.NAME,\"iniy\")[0]\n",
    "    select = Select(pulldown)\n",
    "    select.select_by_index(i+1)\n",
    "    # 開始：月\n",
    "    pulldown = driver.find_elements(By.NAME,\"inim\")[0]\n",
    "    select = Select(pulldown)\n",
    "    select.select_by_index(10)\n",
    "    # 開始：日\n",
    "    pulldown = driver.find_elements(By.NAME,\"inid\")[0]\n",
    "    select = Select(pulldown)\n",
    "    select.select_by_index(27)\n",
    "    # 終了：年\n",
    "    pulldown = driver.find_elements(By.NAME,\"endy\")[0]\n",
    "    select = Select(pulldown)\n",
    "    select.select_by_index(i)\n",
    "    # 終了：月\n",
    "    pulldown = driver.find_elements(By.NAME,\"endm\")[0]\n",
    "    select = Select(pulldown)\n",
    "    select.select_by_index(10)\n",
    "    # 終了：日\n",
    "    pulldown = driver.find_elements(By.NAME,\"endd\")[0]\n",
    "    select = Select(pulldown)\n",
    "    select.select_by_index(27)\n",
    "\n",
    "    # csvをダウンロード\n",
    "    time.sleep(2)\n",
    "    driver.find_element(By.ID,\"csvdl\").click()\n",
    "    # アクセス負荷があるっぽいので長めに休憩\n",
    "    time.sleep(10)\n",
    "\n",
    "    # ファイル名を変更する\n",
    "    current_path = os.path.abspath(os.getcwd())\n",
    "    relative_path = \"..\\data\\csv\\data.csv\"\n",
    "    before_name = os.path.normpath(os.path.join(current_path, relative_path))\n",
    "    current_path = os.path.abspath(os.getcwd())\n",
    "    name = status[feature_name][\"name\"]\n",
    "    relative_path = f\"..\\data\\csv\\data_{name}_{start_year-i}.csv\"\n",
    "    after_name = os.path.normpath(os.path.join(current_path, relative_path))\n",
    "    os.rename(before_name,after_name)\n",
    "\n",
    "    # chromeを閉じる\n",
    "    driver.close()"
   ]
  },
  {
   "cell_type": "code",
   "execution_count": 600,
   "id": "9bcac656",
   "metadata": {},
   "outputs": [],
   "source": [
    "data = pd.read_csv(\"./../data/data_precipitation_2022.csv\", encoding=\"shift-jis\")"
   ]
  },
  {
   "cell_type": "code",
   "execution_count": 601,
   "id": "08be97e3",
   "metadata": {},
   "outputs": [
    {
     "data": {
      "text/html": [
       "<div>\n",
       "<style scoped>\n",
       "    .dataframe tbody tr th:only-of-type {\n",
       "        vertical-align: middle;\n",
       "    }\n",
       "\n",
       "    .dataframe tbody tr th {\n",
       "        vertical-align: top;\n",
       "    }\n",
       "\n",
       "    .dataframe thead th {\n",
       "        text-align: right;\n",
       "    }\n",
       "</style>\n",
       "<table border=\"1\" class=\"dataframe\">\n",
       "  <thead>\n",
       "    <tr style=\"text-align: right;\">\n",
       "      <th></th>\n",
       "      <th></th>\n",
       "      <th></th>\n",
       "      <th></th>\n",
       "      <th>ダウンロードした時刻：2022/12/01 10:43:54</th>\n",
       "    </tr>\n",
       "  </thead>\n",
       "  <tbody>\n",
       "    <tr>\n",
       "      <th>NaN</th>\n",
       "      <th>東京</th>\n",
       "      <th>東京</th>\n",
       "      <th>東京</th>\n",
       "      <td>東京</td>\n",
       "    </tr>\n",
       "    <tr>\n",
       "      <th>年月日時</th>\n",
       "      <th>降水量(mm)</th>\n",
       "      <th>降水量(mm)</th>\n",
       "      <th>降水量(mm)</th>\n",
       "      <td>降水量(mm)</td>\n",
       "    </tr>\n",
       "    <tr>\n",
       "      <th>NaN</th>\n",
       "      <th>NaN</th>\n",
       "      <th>現象なし情報</th>\n",
       "      <th>品質情報</th>\n",
       "      <td>均質番号</td>\n",
       "    </tr>\n",
       "    <tr>\n",
       "      <th>2021/11/28 1:00:00</th>\n",
       "      <th>0</th>\n",
       "      <th>1</th>\n",
       "      <th>8</th>\n",
       "      <td>1</td>\n",
       "    </tr>\n",
       "    <tr>\n",
       "      <th>2021/11/28 2:00:00</th>\n",
       "      <th>0</th>\n",
       "      <th>1</th>\n",
       "      <th>8</th>\n",
       "      <td>1</td>\n",
       "    </tr>\n",
       "    <tr>\n",
       "      <th>...</th>\n",
       "      <th>...</th>\n",
       "      <th>...</th>\n",
       "      <th>...</th>\n",
       "      <td>...</td>\n",
       "    </tr>\n",
       "    <tr>\n",
       "      <th>2022/11/28 20:00:00</th>\n",
       "      <th>0</th>\n",
       "      <th>1</th>\n",
       "      <th>8</th>\n",
       "      <td>1</td>\n",
       "    </tr>\n",
       "    <tr>\n",
       "      <th>2022/11/28 21:00:00</th>\n",
       "      <th>0.0</th>\n",
       "      <th>0</th>\n",
       "      <th>8</th>\n",
       "      <td>1</td>\n",
       "    </tr>\n",
       "    <tr>\n",
       "      <th>2022/11/28 22:00:00</th>\n",
       "      <th>0</th>\n",
       "      <th>1</th>\n",
       "      <th>8</th>\n",
       "      <td>1</td>\n",
       "    </tr>\n",
       "    <tr>\n",
       "      <th>2022/11/28 23:00:00</th>\n",
       "      <th>0.0</th>\n",
       "      <th>0</th>\n",
       "      <th>8</th>\n",
       "      <td>1</td>\n",
       "    </tr>\n",
       "    <tr>\n",
       "      <th>2022/11/29 00:00:00</th>\n",
       "      <th>0</th>\n",
       "      <th>1</th>\n",
       "      <th>8</th>\n",
       "      <td>1</td>\n",
       "    </tr>\n",
       "  </tbody>\n",
       "</table>\n",
       "<p>8787 rows × 1 columns</p>\n",
       "</div>"
      ],
      "text/plain": [
       "                                            ダウンロードした時刻：2022/12/01 10:43:54\n",
       "NaN                 東京      東京      東京                                  東京\n",
       "年月日時                降水量(mm) 降水量(mm) 降水量(mm)                        降水量(mm)\n",
       "NaN                 NaN     現象なし情報  品質情報                              均質番号\n",
       "2021/11/28 1:00:00  0       1       8                                    1\n",
       "2021/11/28 2:00:00  0       1       8                                    1\n",
       "...                                                                    ...\n",
       "2022/11/28 20:00:00 0       1       8                                    1\n",
       "2022/11/28 21:00:00 0.0     0       8                                    1\n",
       "2022/11/28 22:00:00 0       1       8                                    1\n",
       "2022/11/28 23:00:00 0.0     0       8                                    1\n",
       "2022/11/29 00:00:00 0       1       8                                    1\n",
       "\n",
       "[8787 rows x 1 columns]"
      ]
     },
     "execution_count": 601,
     "metadata": {},
     "output_type": "execute_result"
    }
   ],
   "source": [
    "data"
   ]
  },
  {
   "cell_type": "code",
   "execution_count": null,
   "id": "49e46612",
   "metadata": {},
   "outputs": [],
   "source": []
  }
 ],
 "metadata": {
  "kernelspec": {
   "display_name": "Python 3.9.12 ('base')",
   "language": "python",
   "name": "python3"
  },
  "language_info": {
   "codemirror_mode": {
    "name": "ipython",
    "version": 3
   },
   "file_extension": ".py",
   "mimetype": "text/x-python",
   "name": "python",
   "nbconvert_exporter": "python",
   "pygments_lexer": "ipython3",
   "version": "3.9.12"
  },
  "vscode": {
   "interpreter": {
    "hash": "78f2186967b772e829d467b80ca26ff71037d174b693cc695e63ba9a9f756edd"
   }
  }
 },
 "nbformat": 4,
 "nbformat_minor": 5
}
